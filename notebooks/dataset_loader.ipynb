{
 "cells": [
  {
   "cell_type": "code",
   "execution_count": 6,
   "id": "0567fa2a-109e-4778-9bb9-b956d2dde420",
   "metadata": {},
   "outputs": [
    {
     "name": "stdout",
     "output_type": "stream",
     "text": [
      "Writing disaster-ai/src/cv_dataset.py\n"
     ]
    }
   ],
   "source": [
    "%%writefile disaster-ai/src/cv_dataset.py\n",
    "from pathlib import Path\n",
    "from PIL import Image\n",
    "import json, random\n",
    "import torch\n",
    "from torch.utils.data import Dataset\n",
    "from torchvision import transforms\n",
    "\n",
    "class XBDDamageDataset(Dataset):\n",
    "    def __init__(self, root, split=\"train\", img_size=224, seed=42):\n",
    "        self.root = Path(root)\n",
    "        # Find all images with \"post\" in the filename (after-disaster tiles)\n",
    "        self.items = sorted(self.root.rglob(\"*post*.png\"))\n",
    "        random.seed(seed); random.shuffle(self.items)\n",
    "\n",
    "        # 80% training, 20% validation\n",
    "        n = int(0.8*len(self.items))\n",
    "        self.items = self.items[:n] if split==\"train\" else self.items[n:]\n",
    "\n",
    "        # Transform images (resize + normalize)\n",
    "        self.tf = transforms.Compose([\n",
    "            transforms.Resize((img_size, img_size)),\n",
    "            transforms.ToTensor(),\n",
    "            transforms.Normalize([0.485,0.456,0.406],[0.229,0.224,0.225]),\n",
    "        ])\n",
    "\n",
    "    def _label_from_geojson(self, img_path: Path):\n",
    "        # Each image has a corresponding JSON with building damage info\n",
    "        label_json = img_path.with_suffix(\"\").with_name(img_path.stem.replace(\".png\",\"\") + \"_label.json\")\n",
    "        if not label_json.exists():\n",
    "            return 0  # default: no-damage if label missing\n",
    "        data = json.loads(label_json.read_text())\n",
    "        mapping = {\"no-damage\":0, \"minor-damage\":1, \"major-damage\":2, \"destroyed\":3}\n",
    "        counts = [0,0,0,0]\n",
    "        for f in data.get(\"features\", []):\n",
    "            props = f.get(\"properties\", {})\n",
    "            dmg = props.get(\"subtype\") or props.get(\"damage\")\n",
    "            if dmg in mapping: counts[mapping[dmg]] += 1\n",
    "        return int(counts.index(max(counts))) if sum(counts)>0 else 0\n",
    "\n",
    "    def __len__(self): \n",
    "        return len(self.items)\n",
    "\n",
    "    def __getitem__(self, idx):\n",
    "        p = self.items[idx]\n",
    "        img = Image.open(p).convert(\"RGB\")\n",
    "        y = self._label_from_geojson(p)\n",
    "        return self.tf(img), torch.tensor(y, dtype=torch.long)"
   ]
  },
  {
   "cell_type": "code",
   "execution_count": null,
   "id": "a14f95bb-1f28-4bcb-99ae-17dc3490db5d",
   "metadata": {},
   "outputs": [],
   "source": []
  }
 ],
 "metadata": {
  "kernelspec": {
   "display_name": "Python (tfm3)",
   "language": "python",
   "name": "tfm3"
  },
  "language_info": {
   "codemirror_mode": {
    "name": "ipython",
    "version": 3
   },
   "file_extension": ".py",
   "mimetype": "text/x-python",
   "name": "python",
   "nbconvert_exporter": "python",
   "pygments_lexer": "ipython3",
   "version": "3.12.11"
  }
 },
 "nbformat": 4,
 "nbformat_minor": 5
}
