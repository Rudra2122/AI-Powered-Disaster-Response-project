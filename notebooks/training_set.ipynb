{
 "cells": [
  {
   "cell_type": "code",
   "execution_count": 1,
   "id": "13e9020f-19f1-413f-b308-da6b0d75f4c1",
   "metadata": {},
   "outputs": [
    {
     "name": "stdout",
     "output_type": "stream",
     "text": [
      "Writing disaster-ai/src/cv_train.py\n"
     ]
    }
   ],
   "source": [
    "%%writefile disaster-ai/src/cv_train.py\n",
    "import time\n",
    "from pathlib import Path\n",
    "import torch\n",
    "from torch import nn\n",
    "from torch.utils.data import DataLoader\n",
    "from torchvision.models import resnet18\n",
    "from src.cv_dataset import XBDDamageDataset\n",
    "\n",
    "def get_device():\n",
    "    # Use Apple GPU (MPS) if available, else CPU\n",
    "    return torch.device(\"mps\" if torch.backends.mps.is_available() else \"cpu\")\n",
    "\n",
    "def train(data_dir=\"disaster-ai/data/xbd\", outdir=\"disaster-ai/models/cv\", img=224, bs=8, lr=2e-4, epochs=2):\n",
    "    device = get_device()\n",
    "    outdir = Path(outdir); outdir.mkdir(parents=True, exist_ok=True)\n",
    "\n",
    "    # Load dataset\n",
    "    ds_tr = XBDDamageDataset(data_dir, split=\"train\", img_size=img)\n",
    "    ds_va = XBDDamageDataset(data_dir, split=\"val\", img_size=img)\n",
    "\n",
    "    dl_tr = DataLoader(ds_tr, batch_size=bs, shuffle=True)\n",
    "    dl_va = DataLoader(ds_va, batch_size=bs, shuffle=False)\n",
    "\n",
    "    # Define model\n",
    "    model = resnet18(weights=None)  \n",
    "    model.fc = nn.Linear(model.fc.in_features, 4)  # 4 damage classes\n",
    "    model.to(device)\n",
    "\n",
    "    opt = torch.optim.AdamW(model.parameters(), lr=lr)\n",
    "    loss_fn = nn.CrossEntropyLoss()\n",
    "\n",
    "    best = 0.0\n",
    "    for ep in range(epochs):\n",
    "        # Training loop\n",
    "        model.train(); tot=0\n",
    "        for x,y in dl_tr:\n",
    "            x,y = x.to(device), y.to(device)\n",
    "            opt.zero_grad()\n",
    "            loss = loss_fn(model(x), y)\n",
    "            loss.backward(); opt.step()\n",
    "            tot += loss.item()*x.size(0)\n",
    "        tr_loss = tot/len(dl_tr.dataset)\n",
    "\n",
    "        # Validation\n",
    "        model.eval(); correct=0\n",
    "        with torch.no_grad():\n",
    "            for x,y in dl_va:\n",
    "                x,y = x.to(device), y.to(device)\n",
    "                pred = model(x).argmax(1)\n",
    "                correct += (pred==y).sum().item()\n",
    "        acc = correct/len(dl_va.dataset)\n",
    "        print(f\"epoch {ep+1}: train_loss {tr_loss:.4f}  val_acc {acc:.3f}\")\n",
    "\n",
    "        # Save best model\n",
    "        if acc > best:\n",
    "            best = acc\n",
    "            torch.save(model.state_dict(), outdir/\"resnet18_xbd.pt\")\n",
    "    print(\"Best validation accuracy:\", best)\n",
    "\n",
    "if __name__ == \"__main__\":\n",
    "    train()"
   ]
  },
  {
   "cell_type": "code",
   "execution_count": null,
   "id": "67f67f96-80e0-4904-8bec-a01cd7e37eec",
   "metadata": {},
   "outputs": [],
   "source": []
  }
 ],
 "metadata": {
  "kernelspec": {
   "display_name": "Python (tfm3)",
   "language": "python",
   "name": "tfm3"
  },
  "language_info": {
   "codemirror_mode": {
    "name": "ipython",
    "version": 3
   },
   "file_extension": ".py",
   "mimetype": "text/x-python",
   "name": "python",
   "nbconvert_exporter": "python",
   "pygments_lexer": "ipython3",
   "version": "3.12.11"
  }
 },
 "nbformat": 4,
 "nbformat_minor": 5
}
