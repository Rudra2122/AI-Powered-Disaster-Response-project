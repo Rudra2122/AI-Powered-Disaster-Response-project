{
 "cells": [
  {
   "cell_type": "code",
   "execution_count": 4,
   "id": "6b9d3ebb-6c82-4827-8bdd-de9f860f2b49",
   "metadata": {},
   "outputs": [
    {
     "name": "stdout",
     "output_type": "stream",
     "text": [
      "Collecting python-multipart\n",
      "  Downloading python_multipart-0.0.20-py3-none-any.whl.metadata (1.8 kB)\n",
      "Downloading python_multipart-0.0.20-py3-none-any.whl (24 kB)\n",
      "Installing collected packages: python-multipart\n",
      "Successfully installed python-multipart-0.0.20\n",
      "Note: you may need to restart the kernel to use updated packages.\n"
     ]
    }
   ],
   "source": [
    "%pip install python-multipart"
   ]
  },
  {
   "cell_type": "code",
   "execution_count": 2,
   "id": "50638ca1-5439-4053-80bb-a6b3ccf55806",
   "metadata": {},
   "outputs": [],
   "source": [
    "# === FastAPI micro-API inside Jupyter ===\n",
    "import io\n",
    "from pathlib import Path\n",
    "\n",
    "import torch\n",
    "from torch import nn\n",
    "from torchvision import transforms as T\n",
    "import torchvision\n",
    "from PIL import Image\n",
    "\n",
    "from fastapi import FastAPI, UploadFile, File\n",
    "from pydantic import BaseModel\n",
    "import nest_asyncio\n",
    "import uvicorn\n",
    "\n",
    "# --- Setup ---\n",
    "CKPT_DIR = Path(\"checkpoints_multiclass_strong\")\n",
    "ckpt = torch.load(CKPT_DIR/\"best.pt\", map_location=\"cpu\")\n",
    "CLASSES = ckpt[\"classes\"]; IMG_SIZE = ckpt[\"img_size\"]; BACKBONE = ckpt[\"backbone\"]\n",
    "\n",
    "def build_model(backbone: str, n_classes: int):\n",
    "    if backbone == \"resnet18\":\n",
    "        m = torchvision.models.resnet18(weights=None); m.fc = nn.Linear(m.fc.in_features, n_classes)\n",
    "    elif backbone == \"resnet50\":\n",
    "        m = torchvision.models.resnet50(weights=None); m.fc = nn.Linear(m.fc.in_features, n_classes)\n",
    "    elif backbone == \"efficientnet_b0\":\n",
    "        m = torchvision.models.efficientnet_b0(weights=None); m.classifier[1] = nn.Linear(m.classifier[1].in_features, n_classes)\n",
    "    elif backbone == \"vit_b_16\":\n",
    "        m = torchvision.models.vit_b_16(weights=None); m.heads.head = nn.Linear(m.heads.head.in_features, n_classes)\n",
    "    else:\n",
    "        raise ValueError(f\"Unknown backbone: {backbone}\")\n",
    "    return m\n",
    "\n",
    "MODEL = build_model(BACKBONE, len(CLASSES))\n",
    "MODEL.load_state_dict(ckpt[\"model_state\"]); MODEL.eval()\n",
    "\n",
    "TFORM = T.Compose([\n",
    "    T.Resize(int(IMG_SIZE*1.2)), T.CenterCrop(IMG_SIZE),\n",
    "    T.ToTensor(), T.Normalize([0.485,0.456,0.406],[0.229,0.224,0.225]),\n",
    "])\n",
    "\n",
    "# --- FastAPI app ---\n",
    "app = FastAPI(title=\"Damage Multiclass API\")\n",
    "\n",
    "class PredictResponse(BaseModel):\n",
    "    pred: str\n",
    "    conf: float\n",
    "\n",
    "@app.post(\"/predict\", response_model=PredictResponse)\n",
    "async def predict(file: UploadFile = File(...)):\n",
    "    img_bytes = await file.read()\n",
    "    img = Image.open(io.BytesIO(img_bytes)).convert(\"RGB\")\n",
    "    x = TFORM(img).unsqueeze(0)\n",
    "    with torch.no_grad():\n",
    "        logits = MODEL(x)\n",
    "        probs = torch.softmax(logits, dim=1).squeeze(0)\n",
    "        top = int(probs.argmax().item())\n",
    "    return {\"pred\": CLASSES[top], \"conf\": float(probs[top])}"
   ]
  },
  {
   "cell_type": "code",
   "execution_count": 4,
   "id": "7b862b07-757c-473f-bf57-91d3d79a8626",
   "metadata": {},
   "outputs": [
    {
     "name": "stdout",
     "output_type": "stream",
     "text": [
      "🚀 FastAPI is running at http://127.0.0.1:8000\n"
     ]
    },
    {
     "name": "stderr",
     "output_type": "stream",
     "text": [
      "INFO:     Started server process [36409]\n",
      "INFO:     Waiting for application startup.\n",
      "INFO:     Application startup complete.\n",
      "INFO:     Uvicorn running on http://127.0.0.1:8000 (Press CTRL+C to quit)\n"
     ]
    }
   ],
   "source": [
    "import asyncio\n",
    "import uvicorn\n",
    "import nest_asyncio\n",
    "\n",
    "nest_asyncio.apply()\n",
    "\n",
    "config = uvicorn.Config(app, host=\"127.0.0.1\", port=8000, log_level=\"info\")\n",
    "server = uvicorn.Server(config)\n",
    "\n",
    "loop = asyncio.get_event_loop()\n",
    "task = loop.create_task(server.serve())\n",
    "\n",
    "print(\"🚀 FastAPI is running at http://127.0.0.1:8000\")"
   ]
  },
  {
   "cell_type": "code",
   "execution_count": null,
   "id": "43133b2a-cccd-45a1-b10a-7ceea58a65ea",
   "metadata": {},
   "outputs": [],
   "source": [
    "import requests\n",
    "\n",
    "test_img = \"disaster-ai/data/xbd/tier1/images/socal-fire_00001323_post_disaster.png\"\n",
    "with open(test_img, \"rb\") as f:\n",
    "    r = requests.post(\"http://127.0.0.1:8000/predict\", files={\"file\": f})\n",
    "print(r.json())"
   ]
  },
  {
   "cell_type": "code",
   "execution_count": null,
   "id": "01c112e5-1e00-4fe2-b4d1-72babc5f5617",
   "metadata": {},
   "outputs": [],
   "source": []
  }
 ],
 "metadata": {
  "kernelspec": {
   "display_name": "Python (tfm3)",
   "language": "python",
   "name": "tfm3"
  },
  "language_info": {
   "codemirror_mode": {
    "name": "ipython",
    "version": 3
   },
   "file_extension": ".py",
   "mimetype": "text/x-python",
   "name": "python",
   "nbconvert_exporter": "python",
   "pygments_lexer": "ipython3",
   "version": "3.12.11"
  }
 },
 "nbformat": 4,
 "nbformat_minor": 5
}
